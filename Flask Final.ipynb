{
 "cells": [
  {
   "cell_type": "code",
   "execution_count": 1,
   "id": "3bc58882",
   "metadata": {},
   "outputs": [
    {
     "data": {
      "text/plain": [
       "'/Users/arnoldsomuah/Downloads/Final_Credit Scoring/venv'"
      ]
     },
     "execution_count": 1,
     "metadata": {},
     "output_type": "execute_result"
    }
   ],
   "source": [
    "pwd\n"
   ]
  },
  {
   "cell_type": "code",
   "execution_count": null,
   "id": "56ef7833",
   "metadata": {},
   "outputs": [],
   "source": []
  },
  {
   "cell_type": "code",
   "execution_count": null,
   "id": "0e4b76d3",
   "metadata": {},
   "outputs": [],
   "source": []
  },
  {
   "cell_type": "code",
   "execution_count": 2,
   "id": "10371e76",
   "metadata": {},
   "outputs": [],
   "source": [
    "from flask import Flask\n"
   ]
  },
  {
   "cell_type": "code",
   "execution_count": 3,
   "id": "00f230a5",
   "metadata": {},
   "outputs": [],
   "source": [
    "app = Flask(__name__)\n"
   ]
  },
  {
   "cell_type": "code",
   "execution_count": 4,
   "id": "bf30aa0c",
   "metadata": {},
   "outputs": [],
   "source": [
    "@app.route('/')\n",
    "def home():\n",
    "    return 'Welcome to my credit scoring application!'\n"
   ]
  },
  {
   "cell_type": "code",
   "execution_count": 5,
   "id": "08ad9383",
   "metadata": {},
   "outputs": [
    {
     "data": {
      "text/plain": [
       "'Welcome to my credit scoring application!'"
      ]
     },
     "execution_count": 5,
     "metadata": {},
     "output_type": "execute_result"
    }
   ],
   "source": [
    "home()"
   ]
  },
  {
   "cell_type": "code",
   "execution_count": 6,
   "id": "745bcf77",
   "metadata": {},
   "outputs": [
    {
     "data": {
      "text/plain": [
       "RandomForestClassifier(random_state=10)"
      ]
     },
     "execution_count": 6,
     "metadata": {},
     "output_type": "execute_result"
    }
   ],
   "source": [
    "import joblib\n",
    "\n",
    "model = joblib.load('credit_scoring_model.joblib')\n",
    "model"
   ]
  },
  {
   "cell_type": "code",
   "execution_count": 7,
   "id": "98d66d7b",
   "metadata": {},
   "outputs": [],
   "source": [
    "# import numpy as np\n",
    "\n",
    "# def predict(model, input_data):\n",
    "#     inputs = np.array(input_data).reshape(1, -1)\n",
    "#     prediction = model.predict(inputs)\n",
    "#     return prediction[0]\n"
   ]
  },
  {
   "cell_type": "code",
   "execution_count": 8,
   "id": "069165de",
   "metadata": {},
   "outputs": [],
   "source": [
    "# @app.route('/predict')\n",
    "# def get_prediction():\n",
    "#     input_data = [1, 2, 3, 4]  # Replace with your own input data\n",
    "#     prediction = predict(model, input_data)\n",
    "#     return f'The predicted credit score is {prediction}'\n"
   ]
  },
  {
   "cell_type": "code",
   "execution_count": 9,
   "id": "2aaaf498",
   "metadata": {},
   "outputs": [],
   "source": [
    "\n",
    "# if __name__ == '__main__':\n",
    "#     app.run(debug=True, port=5002)\n"
   ]
  },
  {
   "cell_type": "code",
   "execution_count": 10,
   "id": "fbe16ff0",
   "metadata": {},
   "outputs": [],
   "source": [
    "import numpy as np\n",
    "\n",
    "from flask import Flask, request, render_template\n"
   ]
  },
  {
   "cell_type": "code",
   "execution_count": 11,
   "id": "056a3d43",
   "metadata": {},
   "outputs": [
    {
     "data": {
      "text/plain": [
       "RandomForestClassifier(random_state=10)"
      ]
     },
     "execution_count": 11,
     "metadata": {},
     "output_type": "execute_result"
    }
   ],
   "source": [
    "model = joblib.load('credit_scoring_model.joblib')\n",
    "model"
   ]
  },
  {
   "cell_type": "code",
   "execution_count": 12,
   "id": "d37ad3ea",
   "metadata": {},
   "outputs": [],
   "source": [
    "app = Flask(__name__)\n"
   ]
  },
  {
   "cell_type": "code",
   "execution_count": 13,
   "id": "1a48307d",
   "metadata": {},
   "outputs": [],
   "source": [
    "# @app.route('/')\n",
    "# def home():\n",
    "#     return render_template('index.html')\n",
    "\n",
    "# @app.route('/predict', methods=['POST'])\n",
    "# def predict():\n",
    "#     input_values = [float(x) for x in request.form.values()]\n",
    "#     input_data = np.array(input_values).reshape(1, -1)\n",
    "#     prediction = model.predict(input_data)[0]\n",
    "#     return render_template('prediction.html', prediction=prediction)\n"
   ]
  },
  {
   "cell_type": "code",
   "execution_count": 14,
   "id": "1220485e",
   "metadata": {},
   "outputs": [
    {
     "name": "stdout",
     "output_type": "stream",
     "text": [
      " * Serving Flask app \"__main__\" (lazy loading)\n",
      " * Environment: production\n",
      "\u001b[31m   WARNING: This is a development server. Do not use it in a production deployment.\u001b[0m\n",
      "\u001b[2m   Use a production WSGI server instead.\u001b[0m\n",
      " * Debug mode: on\n"
     ]
    },
    {
     "name": "stderr",
     "output_type": "stream",
     "text": [
      " * Running on http://127.0.0.1:5000/ (Press CTRL+C to quit)\n",
      " * Restarting with watchdog (fsevents)\n",
      "Traceback (most recent call last):\n",
      "  File \"/Users/arnoldsomuah/opt/anaconda3/lib/python3.9/site-packages/ipykernel_launcher.py\", line 16, in <module>\n",
      "    app.launch_new_instance()\n",
      "  File \"/Users/arnoldsomuah/opt/anaconda3/lib/python3.9/site-packages/traitlets/config/application.py\", line 845, in launch_instance\n",
      "    app.initialize(argv)\n",
      "  File \"/Users/arnoldsomuah/opt/anaconda3/lib/python3.9/site-packages/traitlets/config/application.py\", line 88, in inner\n",
      "    return method(app, *args, **kwargs)\n",
      "  File \"/Users/arnoldsomuah/opt/anaconda3/lib/python3.9/site-packages/ipykernel/kernelapp.py\", line 632, in initialize\n",
      "    self.init_sockets()\n",
      "  File \"/Users/arnoldsomuah/opt/anaconda3/lib/python3.9/site-packages/ipykernel/kernelapp.py\", line 282, in init_sockets\n",
      "    self.shell_port = self._bind_socket(self.shell_socket, self.shell_port)\n",
      "  File \"/Users/arnoldsomuah/opt/anaconda3/lib/python3.9/site-packages/ipykernel/kernelapp.py\", line 229, in _bind_socket\n",
      "    return self._try_bind_socket(s, port)\n",
      "  File \"/Users/arnoldsomuah/opt/anaconda3/lib/python3.9/site-packages/ipykernel/kernelapp.py\", line 205, in _try_bind_socket\n",
      "    s.bind(\"tcp://%s:%i\" % (self.ip, port))\n",
      "  File \"/Users/arnoldsomuah/opt/anaconda3/lib/python3.9/site-packages/zmq/sugar/socket.py\", line 214, in bind\n",
      "    super().bind(addr)\n",
      "  File \"zmq/backend/cython/socket.pyx\", line 540, in zmq.backend.cython.socket.Socket.bind\n",
      "  File \"zmq/backend/cython/checkrc.pxd\", line 28, in zmq.backend.cython.checkrc._check_rc\n",
      "zmq.error.ZMQError: Address already in use\n"
     ]
    },
    {
     "ename": "SystemExit",
     "evalue": "1",
     "output_type": "error",
     "traceback": [
      "An exception has occurred, use %tb to see the full traceback.\n",
      "\u001b[0;31mSystemExit\u001b[0m\u001b[0;31m:\u001b[0m 1\n"
     ]
    },
    {
     "name": "stderr",
     "output_type": "stream",
     "text": [
      "/Users/arnoldsomuah/opt/anaconda3/lib/python3.9/site-packages/IPython/core/interactiveshell.py:3377: UserWarning: To exit: use 'exit', 'quit', or Ctrl-D.\n",
      "  warn(\"To exit: use 'exit', 'quit', or Ctrl-D.\", stacklevel=1)\n"
     ]
    }
   ],
   "source": [
    "\n",
    "@app.route('/')\n",
    "def index():\n",
    "    xsrf_token = \"generate_xsrf_token_here\"\n",
    "    return render_template('index.html', xsrf_token=xsrf_token)\n",
    "\n",
    "@app.route('/submit', methods=['POST'])\n",
    "def submit():\n",
    "    age = request.form['age']\n",
    "    income = request.form['income']\n",
    "    credit_score = request.form['credit_score']\n",
    "    loan_amount = request.form['loan_amount']\n",
    "    loan_term = request.form['loan_term']\n",
    "    employment_status = request.form['employment_status']\n",
    "    housing_status = request.form['housing_status']\n",
    "\n",
    "    prediction = \"predicted_score_here\"\n",
    "\n",
    "    return render_template('prediction.html', prediction=prediction)\n",
    "\n",
    "if __name__ == '__main__':\n",
    "    app.run(debug=True)\n"
   ]
  },
  {
   "cell_type": "code",
   "execution_count": null,
   "id": "9b471785",
   "metadata": {},
   "outputs": [],
   "source": []
  }
 ],
 "metadata": {
  "kernelspec": {
   "display_name": "Python 3 (ipykernel)",
   "language": "python",
   "name": "python3"
  },
  "language_info": {
   "codemirror_mode": {
    "name": "ipython",
    "version": 3
   },
   "file_extension": ".py",
   "mimetype": "text/x-python",
   "name": "python",
   "nbconvert_exporter": "python",
   "pygments_lexer": "ipython3",
   "version": "3.9.12"
  }
 },
 "nbformat": 4,
 "nbformat_minor": 5
}
