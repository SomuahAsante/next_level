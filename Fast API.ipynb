{
 "cells": [
  {
   "cell_type": "code",
   "execution_count": 1,
   "id": "6a916b67",
   "metadata": {},
   "outputs": [],
   "source": [
    "from fastapi import FastAPI, Request\n",
    "from pydantic import BaseModel\n",
    "import joblib\n",
    "import numpy as np\n"
   ]
  },
  {
   "cell_type": "code",
   "execution_count": 2,
   "id": "7d1c86c7",
   "metadata": {},
   "outputs": [
    {
     "data": {
      "text/plain": [
       "RandomForestClassifier(random_state=10)"
      ]
     },
     "execution_count": 2,
     "metadata": {},
     "output_type": "execute_result"
    }
   ],
   "source": [
    "\n",
    "# model = joblib.load('credit_scoring_model.joblib')\n",
    "# model"
   ]
  },
  {
   "cell_type": "code",
   "execution_count": 3,
   "id": "1da7d83b",
   "metadata": {},
   "outputs": [],
   "source": [
    "# app = FastAPI()\n"
   ]
  },
  {
   "cell_type": "code",
   "execution_count": 4,
   "id": "2f4e7176",
   "metadata": {},
   "outputs": [],
   "source": [
    "# class InputData(BaseModel):\n",
    "#     age: int\n",
    "#     income: float\n",
    "#     credit_score: int\n",
    "#     loan_amount: float\n",
    "#     loan_term: int\n",
    "#     employment_status: str\n",
    "#     housing_status: str\n"
   ]
  },
  {
   "cell_type": "code",
   "execution_count": 5,
   "id": "841fea83",
   "metadata": {},
   "outputs": [],
   "source": [
    "# def extract_features(input_data: InputData) -> np.ndarray:\n",
    "#     # extract features from input data and return as a numpy array\n",
    "#     features = np.array([\n",
    "#         input_data.age,\n",
    "#         input_data.income,\n",
    "#         input_data.credit_score,\n",
    "#         input_data.loan_amount,\n",
    "#         input_data.loan_term,\n",
    "#         1 if input_data.employment_status == 'employed' else 0,\n",
    "#         1 if input_data.employment_status == 'self_employed' else 0,\n",
    "#         1 if input_data.housing_status == 'own' else 0,\n",
    "#         1 if input_data.housing_status == 'rent' else 0,\n",
    "#         1 if input_data.housing_status == 'mortgage' else 0\n",
    "#     ], dtype=np.float64)\n",
    "#     return features.reshape(1, -1)\n"
   ]
  },
  {
   "cell_type": "code",
   "execution_count": 6,
   "id": "ef974c0d",
   "metadata": {},
   "outputs": [],
   "source": [
    "# @app.post('/predict')\n",
    "# def predict(input_data: InputData):\n",
    "#     features = extract_features(input_data)  # extract features from input data\n",
    "#     prediction = model.predict(features)  # make prediction\n",
    "#     return {'prediction': prediction.tolist()}\n"
   ]
  },
  {
   "cell_type": "code",
   "execution_count": 9,
   "id": "8dea4646",
   "metadata": {},
   "outputs": [],
   "source": [
    "import joblib\n",
    "import numpy as np\n",
    "from fastapi import FastAPI\n",
    "from typing import List\n",
    "\n",
    "\n",
    "app = FastAPI()\n",
    "\n",
    "# Load the saved credit scoring model\n",
    "model = joblib.load(\"credit_scoring_model.joblib\")\n",
    "\n",
    "@app.get(\"/\")\n",
    "def read_root():\n",
    "    return {\"Hello\": \"World\"}\n",
    "\n",
    "@app.post(\"/predict\")\n",
    "def predict_credit_score(features: List[float]):\n",
    "    # Convert the features list to a NumPy array\n",
    "    features = np.array(features).reshape(1, -1)\n",
    "\n",
    "    # Make the prediction\n",
    "    prediction = model.predict(features)[0]\n",
    "\n",
    "    # Return the prediction\n",
    "    return {\"credit_score\": prediction}\n"
   ]
  },
  {
   "cell_type": "code",
   "execution_count": null,
   "id": "af00a7ee",
   "metadata": {},
   "outputs": [],
   "source": []
  },
  {
   "cell_type": "code",
   "execution_count": null,
   "id": "7d41b9ac",
   "metadata": {},
   "outputs": [],
   "source": []
  },
  {
   "cell_type": "code",
   "execution_count": null,
   "id": "e62c190e",
   "metadata": {},
   "outputs": [],
   "source": []
  }
 ],
 "metadata": {
  "kernelspec": {
   "display_name": "Python 3 (ipykernel)",
   "language": "python",
   "name": "python3"
  },
  "language_info": {
   "codemirror_mode": {
    "name": "ipython",
    "version": 3
   },
   "file_extension": ".py",
   "mimetype": "text/x-python",
   "name": "python",
   "nbconvert_exporter": "python",
   "pygments_lexer": "ipython3",
   "version": "3.9.12"
  }
 },
 "nbformat": 4,
 "nbformat_minor": 5
}
